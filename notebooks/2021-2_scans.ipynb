{
 "cells": [
  {
   "cell_type": "code",
   "execution_count": 1,
   "id": "27aa1bfc",
   "metadata": {},
   "outputs": [],
   "source": [
    "import sys, os\n",
    "sys.path.append('/home/beams/USERBNP/scripts/bnpTools')\n",
    "from bnpScan import bnpScan\n",
    "import numpy as np"
   ]
  },
  {
   "cell_type": "code",
   "execution_count": null,
   "id": "5e2bb737",
   "metadata": {
    "scrolled": true
   },
   "outputs": [],
   "source": [
    "userdir = '/mnt/micdata1/bnp/2021-3/Schmollinger'\n",
    "logfile = 'log.txt'   # second attemp \n",
    "A = bnpScan(userdir, logfile)\n",
    "sampleName = 'FIB-Region-top-cell'\n",
    "BDAin = -8826\n",
    "# x_width = 80\n",
    "# y_width = 120\n",
    "# x_step = 2.5\n",
    "# y_step = 2.5\n",
    "# dw = 50\n",
    "\n",
    "scans = [\n",
    "#     [width, height, step_width, step_height, dwell, x-center, y-center, z-center]    \n",
    "    #[45, 28, 0.12, 0.12, 25, 914.029, -1319.74, 134.977] \n",
    "    \n",
    "    ]\n",
    "\n",
    "A.setupBatchXRFScans(sampleName, scans, BDAin, smp_angle = None)\n",
    "A.startScan()"
   ]
  }
 ],
 "metadata": {
  "kernelspec": {
   "display_name": "Python 3 (ipykernel)",
   "language": "python",
   "name": "python3"
  },
  "language_info": {
   "codemirror_mode": {
    "name": "ipython",
    "version": 3
   },
   "file_extension": ".py",
   "mimetype": "text/x-python",
   "name": "python",
   "nbconvert_exporter": "python",
   "pygments_lexer": "ipython3",
   "version": "3.7.11"
  }
 },
 "nbformat": 4,
 "nbformat_minor": 5
}
