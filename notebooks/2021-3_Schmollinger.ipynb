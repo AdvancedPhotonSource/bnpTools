{
 "cells": [
  {
   "cell_type": "code",
   "execution_count": 1,
   "id": "838aa3f8",
   "metadata": {},
   "outputs": [],
   "source": [
    "import sys, os\n",
    "sys.path.append('/home/beams/USERBNP/scripts/bnpTools')\n",
    "from bnpScan import bnpScan\n",
    "import numpy as np"
   ]
  },
  {
   "cell_type": "code",
   "execution_count": 56,
   "id": "e96b1616",
   "metadata": {
    "scrolled": true
   },
   "outputs": [
    {
     "name": "stdout",
     "output_type": "stream",
     "text": [
      "\n",
      "\n",
      "2021-07-25 03:16:40: Associate motors with PVs\n",
      "2021-07-25 03:16:40: Setting up 1/1 batch scan using batchXRF_fixAngle mode.\n",
      "#################### Initiating scan bnp_fly0274.mda ####################\n",
      "Sample info: FIB-Region-top-cell\n",
      "2021-07-25 03:16:40: x_width: 80.000 \ty_width: 30.000 \tx_step: 1.000 \ty_step: 1.000 \tdwell: 25.000 \tx_center_Rqs: 194.000 \ty_center_Rqs: -1299.990 \tz_value_Rqs: -326.992 \t\n",
      "\n",
      "2021-07-25 03:16:40: Move BDA to block position at: -9427.000\n",
      "2021-07-25 03:16:40; Changing XY scan mode to combined motion\n",
      "2021-07-25 03:16:45: Change x_width to 80.000\n",
      "2021-07-25 03:16:46: Change y_width to 30.000\n",
      "2021-07-25 03:16:47: Change x_step to 1.000\n",
      "2021-07-25 03:16:48: Change y_step to 1.000\n",
      "2021-07-25 03:16:49: Change dwell to 25.000\n",
      "2021-07-25 03:16:50: Change x_center_Rqs to 194.000\n",
      "2021-07-25 03:16:51: Change y_center_Rqs to -1299.990\n",
      "2021-07-25 03:16:52: Change z_value_Rqs to -326.992\n",
      "2021-07-25 03:16:52: Checking whether motors are ready.\n",
      "2021-07-25 03:16:52: Motors not in position\n",
      "2021-07-25 03:16:53: x_center motor is in position with value194.00 um\n",
      "2021-07-25 03:16:54: y_center motor is in position with value-1299.99 um\n",
      "2021-07-25 03:16:55: z_value motor is in position with value-326.99 um\n",
      "2021-07-25 03:16:55: Motors Ready \n",
      "2021-07-25 03:16:55: Update the current position as the center ofthe scan.\n",
      "2021-07-25 03:16:55: Changing X scan mode to Piezo only\n",
      "2021-07-25 03:16:56: Centering piezoX and piezoY.\n",
      "2021-07-25 03:17:00: Move BDA to open position at: -8927.000\n",
      "2021-07-25 03:17:00: Scanning \n"
     ]
    },
    {
     "name": "stderr",
     "output_type": "stream",
     "text": [
      "bnp_fly0274.mda (0/1): 61it [02:33,  2.52s/it]                        "
     ]
    },
    {
     "name": "stdout",
     "output_type": "stream",
     "text": [
      "2021-07-25 03:19:34: Finish scan: bnp_fly0274.mda\n",
      "\n",
      "\n",
      "2021-07-25 03:19:34: Move BDA to block position at: -9427.000\n",
      "2021-07-25 03:19:34; Changing XY scan mode to combined motion\n"
     ]
    },
    {
     "name": "stderr",
     "output_type": "stream",
     "text": [
      "\n"
     ]
    },
    {
     "name": "stdout",
     "output_type": "stream",
     "text": [
      "2021-07-25 03:19:38: Complete. Congratulation!\n"
     ]
    }
   ],
   "source": [
    "userdir = '/mnt/micdata1/bnp/2021-2/Luo3'\n",
    "logfile = 'log_run2.txt'   # second attemp \n",
    "A = bnpScan(userdir, logfile)\n",
    "sampleName = 'FIB-Region-top-cell'\n",
    "BDAin = -8927\n",
    "# x_width = 80\n",
    "# y_width = 120\n",
    "# x_step = 2.5\n",
    "# y_step = 2.5\n",
    "# dw = 50\n",
    "\n",
    "scans = [\n",
    "#     [60, 40, 0.5, 0.5, 25, 918, -1331+30, 296.167]\n",
    "    #[45, 28, 0.12, 0.12, 25, 914.029, -1319.74, 134.977] \n",
    "    #[32, 28, 0.4, 0.4, 25, 880.28, -1302.22, 134.977] \n",
    "    #[26, 26, 2, 2, 50, 877.87, -1298, 134.977]\n",
    "    #[26.5, 26.5, 0.08, 0.08, 50, 879.87, -1298, 134.977], #20 2D fine scan at 15deg\n",
    "    #[60, 28, 0.5, 0.5, 20, 925, -1298, 325], #21 2D coarse scan at 0 deg\n",
    "    #[26.5, 26.5, 0.1, 0.1, 25, 926.7, -1299.24, 325] #22, tomo proj 0 deg\n",
    "    #[60, 28, 0.5, 0.5, 20, 881, -1299.24, 676]  #82, coarse scan at deg = -28, \n",
    "    #   signals are low, check beam, tweek crystal, proceed to smaller angle (-26) ... \n",
    "    #   will it may make sense to go to higher angle to avoid thick Si-frame? Yes.\n",
    " \n",
    "    # 7/14, aborted fly89, Dia detector was low\n",
    "    #[40, 40, 0.5, 0.5, 25, 926.7, -1299.24, 325], #90\n",
    "    #[28, 28, 0.1, 0.1, 25, 540.94, -1305.31, 1051.897], #115, coarse scan file failed \n",
    "    # to be read, start fine scan using BatchXRFScans() at deg = -68\n",
    "    #[28, 28, 0.1, 0.1, 25, 494.73, -1306.72, 1074.797] at deg = -72\n",
    "    \n",
    "    # After deg = -62, check beam, adjust crystal  \n",
    "    # Manual measurement at high angle:\n",
    "        #need to stitch sc260, 261, deg 74\n",
    "        #need to stitch sc265, 266, deg 76\n",
    "        #can't locate cell up to deg 80\n",
    "    \n",
    "    # maps server crashed, start scan manually\n",
    "#     [23, 28, 0.1, 0.1, 25, 419.229, -1296.98, -286.399] # deg 62\n",
    "#     [80, 30, 1, 1, 25, 214-20, -1299.99, -326.992]\n",
    "#     [15, 28, 0.1, 0.1, 25, 200, -1299.99, -326.019]\n",
    "    \n",
    "    ]\n",
    "\n",
    "A.setupBatchXRFScans(sampleName, scans, BDAin, smp_angle = None)\n",
    "A.startScan()"
   ]
  },
  {
   "cell_type": "code",
   "execution_count": 53,
   "id": "1f830dff",
   "metadata": {
    "scrolled": true
   },
   "outputs": [
    {
     "name": "stdout",
     "output_type": "stream",
     "text": [
      "\n",
      "\n",
      "2021-07-25 03:08:23: Associate motors with PVs\n",
      "2021-07-25 03:08:23: Setting up 1/1 batch scan using angleSweep mode.\n",
      "#################### Initiating scan bnp_fly0271.mda ####################\n",
      "Sample info: FIB-Region-top-cell\n",
      "2021-07-25 03:08:23: x_width: 80.000 \ty_width: 5.000 \tx_step: 1.000 \ty_step: 1.000 \tdwell: 25.000 \tx_center_Rqs: 927.040 \ty_center_Rqs: -1296.990 \tz_value_Rqs: 296.167 \ttomo_rot_Rqs: 80.000 \t\n",
      "\n",
      "2021-07-25 03:08:23: Move BDA to block position at: -9427.000\n",
      "2021-07-25 03:08:23; Changing XY scan mode to combined motion\n",
      "2021-07-25 03:08:27: Putting Tomo angle rotation back to 0 deg\n",
      "2021-07-25 03:08:27; Changing tomo rotation angle from to 78.00 to 0.00\n",
      "2021-07-25 03:08:27: Checking whether motors are ready.\n",
      "2021-07-25 03:08:27: Motors not in position\n",
      "2021-07-25 03:08:28: Motors not in position\n",
      "2021-07-25 03:08:29: Motors not in position\n",
      "2021-07-25 03:08:30: Motors not in position\n",
      "2021-07-25 03:08:31: Motors not in position\n",
      "2021-07-25 03:08:32: Motors not in position\n",
      "2021-07-25 03:08:33: Motors not in position\n",
      "2021-07-25 03:08:34: Motors not in position\n",
      "2021-07-25 03:08:35: Motors not in position\n",
      "2021-07-25 03:08:36: Motors not in position\n",
      "2021-07-25 03:08:37: Motors not in position\n",
      "2021-07-25 03:08:38: Motors not in position\n",
      "2021-07-25 03:08:39: Motors not in position\n",
      "2021-07-25 03:08:40: Motors not in position\n",
      "2021-07-25 03:08:41: Motors not in position\n",
      "2021-07-25 03:08:42: Motors not in position\n",
      "2021-07-25 03:08:43: Motors not in position\n",
      "2021-07-25 03:08:44: Motors not in position\n",
      "2021-07-25 03:08:45: tomo_rot motor is in position with value0.00 um\n",
      "2021-07-25 03:08:45: Motors Ready \n",
      "2021-07-25 03:08:47: Change x_width to 80.000\n",
      "2021-07-25 03:08:48: Change y_width to 5.000\n",
      "2021-07-25 03:08:49: Change x_step to 1.000\n",
      "2021-07-25 03:08:50: Change y_step to 1.000\n",
      "2021-07-25 03:08:51: Change dwell to 25.000\n",
      "2021-07-25 03:08:52: Change x_center_Rqs to 927.040\n",
      "2021-07-25 03:08:53: Change y_center_Rqs to -1296.990\n",
      "2021-07-25 03:08:54: Change z_value_Rqs to 296.167\n",
      "2021-07-25 03:08:54: Checking whether motors are ready.\n",
      "2021-07-25 03:08:54: Motors not in position\n",
      "2021-07-25 03:08:55: x_center motor is in position with value927.04 um\n",
      "2021-07-25 03:08:56: y_center motor is in position with value-1296.99 um\n",
      "2021-07-25 03:08:57: z_value motor is in position with value296.17 um\n",
      "2021-07-25 03:08:57: Motors Ready \n",
      "2021-07-25 03:08:57; Changing tomo rotation angle from to -0.01 to 80.00\n",
      "2021-07-25 03:08:57: Checking whether motors are ready.\n",
      "2021-07-25 03:08:57: Motors not in position\n",
      "2021-07-25 03:08:58: Motors not in position\n",
      "2021-07-25 03:08:59: Motors not in position\n",
      "2021-07-25 03:09:00: Motors not in position\n",
      "2021-07-25 03:09:01: Motors not in position\n",
      "2021-07-25 03:09:02: Motors not in position\n",
      "2021-07-25 03:09:03: Motors not in position\n",
      "2021-07-25 03:09:04: Motors not in position\n",
      "2021-07-25 03:09:05: Motors not in position\n",
      "2021-07-25 03:09:06: Motors not in position\n",
      "2021-07-25 03:09:07: Motors not in position\n",
      "2021-07-25 03:09:08: Motors not in position\n",
      "2021-07-25 03:09:09: Motors not in position\n",
      "2021-07-25 03:09:10: Motors not in position\n",
      "2021-07-25 03:09:11: Motors not in position\n",
      "2021-07-25 03:09:12: Motors not in position\n",
      "2021-07-25 03:09:13: Motors not in position\n",
      "2021-07-25 03:09:14: tomo_rot motor is in position with value80.00 um\n",
      "2021-07-25 03:09:14: Motors Ready \n",
      "2021-07-25 03:09:14: Checking whether motors are ready.\n",
      "2021-07-25 03:09:14: Motors not in position\n",
      "2021-07-25 03:09:15: x_center motor is in position with value214.47 um\n",
      "2021-07-25 03:09:16: z_value motor is in position with value-326.99 um\n",
      "2021-07-25 03:09:16: Motors Ready \n",
      "2021-07-25 03:09:16: Update the current position as the center ofthe scan.\n",
      "2021-07-25 03:09:16: Changing X scan mode to Piezo only\n",
      "2021-07-25 03:09:17: Centering piezoX and piezoY.\n",
      "2021-07-25 03:09:21: Move BDA to open position at: -8927.000\n",
      "2021-07-25 03:09:21: Scanning \n"
     ]
    },
    {
     "name": "stderr",
     "output_type": "stream",
     "text": [
      "bnp_fly0271.mda (0/1): 11it [00:41,  3.80s/it]                      "
     ]
    },
    {
     "name": "stdout",
     "output_type": "stream",
     "text": [
      "2021-07-25 03:10:03: Finish scan: bnp_fly0271.mda\n",
      "\n",
      "\n",
      "2021-07-25 03:10:03: Move BDA to block position at: -9427.000\n",
      "2021-07-25 03:10:03; Changing XY scan mode to combined motion\n"
     ]
    },
    {
     "name": "stderr",
     "output_type": "stream",
     "text": [
      "\n"
     ]
    },
    {
     "name": "stdout",
     "output_type": "stream",
     "text": [
      "2021-07-25 03:10:07: Complete. Congratulation!\n"
     ]
    }
   ],
   "source": [
    "# coarse scan at 70\n",
    "A = bnpScan(userdir, logfile)\n",
    "pts_area_coarse = [80, 5, 1, 1, 25]     #x-width, y-width, x-stepsize, y-stepsize, dw\n",
    "orgPos_xyz_0theta = [927.04, -1296.99, 296.167]  #x-, y-, z- coordinate \n",
    "elm = 'Ti'\n",
    "angles = [80]\n",
    "A.setupAngleSweepScans(sampleName, angles, pts_area_coarse, orgPos_xyz_0theta, BDAin)\n",
    "A.startScan()"
   ]
  },
  {
   "cell_type": "code",
   "execution_count": 57,
   "id": "45b22c77",
   "metadata": {
    "scrolled": true
   },
   "outputs": [
    {
     "name": "stdout",
     "output_type": "stream",
     "text": [
      "\n",
      "\n",
      "2021-07-25 03:25:26: Associate motors with PVs\n",
      "2021-07-25 03:25:26: Setting up 1/1 batch scan using coarse_fine mode.\n",
      "#################### Initiating scan bnp_fly0275.mda ####################\n",
      "Sample info: FIB-Region-top-cell\n",
      "2021-07-25 03:25:26: x_width: 60.000 \ty_width: 8.500 \tx_step: 1.000 \ty_step: 1.000 \tdwell: 25.000 \tx_center_Rqs: 927.040 \ty_center_Rqs: -1299.990 \tz_value_Rqs: 296.167 \ttomo_rot_Rqs: 40.000 \t\n",
      "\n",
      "2021-07-25 03:25:26: Move BDA to block position at: -9427.000\n",
      "2021-07-25 03:25:26; Changing XY scan mode to combined motion\n",
      "2021-07-25 03:25:30: Putting Tomo angle rotation back to 0 deg\n",
      "2021-07-25 03:25:30; Changing tomo rotation angle from to 80.00 to 0.00\n",
      "2021-07-25 03:25:30: Checking whether motors are ready.\n",
      "2021-07-25 03:25:30: Motors not in position\n",
      "2021-07-25 03:25:31: Motors not in position\n",
      "2021-07-25 03:25:32: Motors not in position\n",
      "2021-07-25 03:25:33: Motors not in position\n",
      "2021-07-25 03:25:34: Motors not in position\n",
      "2021-07-25 03:25:35: Motors not in position\n",
      "2021-07-25 03:25:36: Motors not in position\n",
      "2021-07-25 03:25:37: Motors not in position\n",
      "2021-07-25 03:25:38: Motors not in position\n",
      "2021-07-25 03:25:39: Motors not in position\n",
      "2021-07-25 03:25:40: Motors not in position\n",
      "2021-07-25 03:25:41: Motors not in position\n",
      "2021-07-25 03:25:42: Motors not in position\n",
      "2021-07-25 03:25:43: Motors not in position\n",
      "2021-07-25 03:25:44: Motors not in position\n",
      "2021-07-25 03:25:45: Motors not in position\n",
      "2021-07-25 03:25:46: Motors not in position\n",
      "2021-07-25 03:25:47: tomo_rot motor is in position with value0.00 um\n",
      "2021-07-25 03:25:47: Motors Ready \n",
      "2021-07-25 03:25:49: Change x_width to 60.000\n",
      "2021-07-25 03:25:50: Change y_width to 8.500\n",
      "2021-07-25 03:25:51: Change x_step to 1.000\n",
      "2021-07-25 03:25:52: Change y_step to 1.000\n",
      "2021-07-25 03:25:53: Change dwell to 25.000\n",
      "2021-07-25 03:25:54: Change x_center_Rqs to 927.040\n",
      "2021-07-25 03:25:55: Change y_center_Rqs to -1299.990\n",
      "2021-07-25 03:25:56: Change z_value_Rqs to 296.167\n",
      "2021-07-25 03:25:56: Checking whether motors are ready.\n",
      "2021-07-25 03:25:56: Motors not in position\n",
      "2021-07-25 03:25:57: x_center motor is in position with value927.04 um\n",
      "2021-07-25 03:25:58: y_center motor is in position with value-1299.99 um\n",
      "2021-07-25 03:25:59: z_value motor is in position with value296.17 um\n",
      "2021-07-25 03:25:59: Motors Ready \n",
      "2021-07-25 03:25:59; Changing tomo rotation angle from to -0.01 to 40.00\n",
      "2021-07-25 03:25:59: Checking whether motors are ready.\n",
      "2021-07-25 03:25:59: Motors not in position\n",
      "2021-07-25 03:26:00: Motors not in position\n",
      "2021-07-25 03:26:01: Motors not in position\n",
      "2021-07-25 03:26:03: Motors not in position\n",
      "2021-07-25 03:26:04: Motors not in position\n",
      "2021-07-25 03:26:05: Motors not in position\n",
      "2021-07-25 03:26:06: Motors not in position\n",
      "2021-07-25 03:26:07: Motors not in position\n",
      "2021-07-25 03:26:08: Motors not in position\n",
      "2021-07-25 03:26:09: tomo_rot motor is in position with value40.00 um\n",
      "2021-07-25 03:26:09: Motors Ready \n",
      "2021-07-25 03:26:09: Checking whether motors are ready.\n",
      "2021-07-25 03:26:09: Motors not in position\n",
      "2021-07-25 03:26:10: x_center motor is in position with value684.16 um\n",
      "2021-07-25 03:26:11: z_value motor is in position with value-145.09 um\n",
      "2021-07-25 03:26:11: Motors Ready \n",
      "2021-07-25 03:26:11: Update the current position as the center ofthe scan.\n",
      "2021-07-25 03:26:11: Changing X scan mode to Piezo only\n",
      "2021-07-25 03:26:12: Centering piezoX and piezoY.\n",
      "2021-07-25 03:26:16: Move BDA to open position at: -8927.000\n",
      "2021-07-25 03:26:16: Scanning \n"
     ]
    },
    {
     "name": "stderr",
     "output_type": "stream",
     "text": [
      "bnp_fly0275.mda (0/1): 17it [00:33,  1.96s/it]                      "
     ]
    },
    {
     "name": "stdout",
     "output_type": "stream",
     "text": [
      "2021-07-25 03:26:49: Finish scan: bnp_fly0275.mda\n",
      "\n",
      "\n",
      "2021-07-25 03:26:49: Move BDA to block position at: -9427.000\n"
     ]
    },
    {
     "name": "stderr",
     "output_type": "stream",
     "text": [
      "\n"
     ]
    },
    {
     "name": "stdout",
     "output_type": "stream",
     "text": [
      "Waiting for coarse scan file bnp_fly0275.mda to be ready, file modified time: 1627201616, time difference: 54 \n"
     ]
    },
    {
     "data": {
      "image/png": "[encoded data removed]",
      "text/plain": [
       "<Figure size 504x288 with 8 Axes>"
      ]
     },
     "metadata": {
      "needs_background": "light"
     },
     "output_type": "display_data"
    },
    {
     "name": "stdout",
     "output_type": "stream",
     "text": [
      "2.00(width) \n",
      " 1.00(height)\n",
      "#################### Initiating fine scan bnp_fly0276.mda ####################\n",
      "Sample temp (K): 300.058\n",
      "2021-07-25 03:27:51: Move BDA to block position at: -9427.000\n",
      "2021-07-25 03:27:51; Changing XY scan mode to combined motion\n",
      "2021-07-25 03:27:56: Change x_width to 26.500\n",
      "2021-07-25 03:27:57: Change y_width to 28.000\n",
      "2021-07-25 03:27:58: Change x_step to 0.100\n",
      "2021-07-25 03:27:59: Change y_step to 0.100\n",
      "2021-07-25 03:28:00: Change dwell to 25.000\n",
      "2021-07-25 03:28:01: Change sm_rot_Rqs to 40.000\n",
      "2021-07-25 03:28:02: Change x_center_Rqs to 668.159\n",
      "2021-07-25 03:28:03: Change y_center_Rqs to -1296.483\n",
      "2021-07-25 03:28:04: Change z_value_Rqs to -145.089\n",
      "2021-07-25 03:28:04: Checking whether motors are ready.\n",
      "2021-07-25 03:28:04: Motors not in position\n",
      "2021-07-25 03:28:05: x_center motor is in position with value668.16 um\n",
      "2021-07-25 03:28:06: y_center motor is in position with value-1296.48 um\n",
      "2021-07-25 03:28:07: z_value motor is in position with value-145.09 um\n",
      "2021-07-25 03:28:08: sm_rot motor is in position with value40.00 um\n",
      "2021-07-25 03:28:08: Motors Ready \n",
      "2021-07-25 03:28:08: Update the current position as the center ofthe scan.\n",
      "2021-07-25 03:28:08: Changing X scan mode to Piezo only\n",
      "2021-07-25 03:28:09: Centering piezoX and piezoY.\n",
      "2021-07-25 03:28:13: Move BDA to open position at: -8927.000\n",
      "2021-07-25 03:28:13: Scanning \n"
     ]
    },
    {
     "name": "stderr",
     "output_type": "stream",
     "text": [
      "bnp_fly0276.mda (0/1): 561it [44:41,  4.78s/it]                          "
     ]
    },
    {
     "name": "stdout",
     "output_type": "stream",
     "text": [
      "2021-07-25 04:12:54: Finish scan: bnp_fly0276.mda\n",
      "\n",
      "\n",
      "2021-07-25 04:12:54: Move BDA to block position at: -9427.000\n",
      "2021-07-25 04:12:54; Changing XY scan mode to combined motion\n"
     ]
    },
    {
     "name": "stderr",
     "output_type": "stream",
     "text": [
      "\n"
     ]
    },
    {
     "name": "stdout",
     "output_type": "stream",
     "text": [
      "2021-07-25 04:12:58: Batch scan termiinated\n"
     ]
    },
    {
     "data": {
      "image/png": "[encoded data removed]",
      "text/plain": [
       "<Figure size 432x288 with 1 Axes>"
      ]
     },
     "metadata": {
      "needs_background": "light"
     },
     "output_type": "display_data"
    }
   ],
   "source": [
    "# check damange at 0 (sc249), previous scan at deg 0 is sc22\n",
    "A = bnpScan(userdir, logfile)\n",
    "pts_area_coarse = [60, 8.5, 1, 1, 25]     #x-width, y-width, x-stepsize, y-stepsize, dw\n",
    "orgPos_xyz_0theta = [927.04, -1299.99, 296.167]  #x-, y-, z- coordinate \n",
    "elm = 'Ti'\n",
    "ncluster = 4   \n",
    "pts_area_fine = [26.5, 28, 0.1, 0.1, 25] #x-width, y-width, x-stepsize, y-stepsize, dw\n",
    "angles=[40]\n",
    "A.setupCoarseFineScans(sampleName, angles, BDAin, pts_area_coarse, orgPos_xyz_0theta, \n",
    "                             elm, pts_area_fine, fine_bbox = True, n_cluster = ncluster,\n",
    "                      sel_cluster = ncluster -1, use_mask=False)\n",
    "A.startScan()"
   ]
  },
  {
   "cell_type": "code",
   "execution_count": 58,
   "id": "dbfd3a81",
   "metadata": {
    "scrolled": true
   },
   "outputs": [
    {
     "name": "stdout",
     "output_type": "stream",
     "text": [
      "\n",
      "\n",
      "2021-07-25 04:12:58: Associate motors with PVs\n",
      "2021-07-25 04:12:58: Setting up 1/2 batch scan using coarse_fine mode.\n",
      "#################### Initiating scan bnp_fly0277.mda ####################\n",
      "Sample info: FIB-Region-top-cell\n",
      "2021-07-25 04:12:58: x_width: 60.000 \ty_width: 8.500 \tx_step: 1.000 \ty_step: 1.000 \tdwell: 25.000 \tx_center_Rqs: 927.040 \ty_center_Rqs: -1296.990 \tz_value_Rqs: 296.167 \ttomo_rot_Rqs: -21.000 \t\n",
      "\n",
      "2021-07-25 04:12:58: Move BDA to block position at: -9427.000\n",
      "2021-07-25 04:12:58; Changing XY scan mode to combined motion\n",
      "2021-07-25 04:13:02: Putting Tomo angle rotation back to 0 deg\n",
      "2021-07-25 04:13:02; Changing tomo rotation angle from to 40.00 to 0.00\n",
      "2021-07-25 04:13:02: Checking whether motors are ready.\n",
      "2021-07-25 04:13:02: Motors not in position\n",
      "2021-07-25 04:13:03: Motors not in position\n",
      "2021-07-25 04:13:04: Motors not in position\n",
      "2021-07-25 04:13:05: Motors not in position\n",
      "2021-07-25 04:13:06: Motors not in position\n",
      "2021-07-25 04:13:07: Motors not in position\n",
      "2021-07-25 04:13:08: Motors not in position\n",
      "2021-07-25 04:13:09: Motors not in position\n",
      "2021-07-25 04:13:10: Motors not in position\n",
      "2021-07-25 04:13:11: tomo_rot motor is in position with value0.00 um\n",
      "2021-07-25 04:13:11: Motors Ready \n",
      "2021-07-25 04:13:13: Change x_width to 60.000\n",
      "2021-07-25 04:13:14: Change y_width to 8.500\n",
      "2021-07-25 04:13:15: Change x_step to 1.000\n",
      "2021-07-25 04:13:16: Change y_step to 1.000\n",
      "2021-07-25 04:13:17: Change dwell to 25.000\n",
      "2021-07-25 04:13:18: Change x_center_Rqs to 927.040\n",
      "2021-07-25 04:13:19: Change y_center_Rqs to -1296.990\n",
      "2021-07-25 04:13:20: Change z_value_Rqs to 296.167\n",
      "2021-07-25 04:13:20: Checking whether motors are ready.\n",
      "2021-07-25 04:13:20: Motors not in position\n",
      "2021-07-25 04:13:21: x_center motor is in position with value927.04 um\n",
      "2021-07-25 04:13:22: y_center motor is in position with value-1296.99 um\n",
      "2021-07-25 04:13:23: z_value motor is in position with value296.17 um\n",
      "2021-07-25 04:13:23: Motors Ready \n",
      "2021-07-25 04:13:23; Changing tomo rotation angle from to -0.01 to -21.00\n",
      "2021-07-25 04:13:23: Checking whether motors are ready.\n",
      "2021-07-25 04:13:23: Motors not in position\n",
      "2021-07-25 04:13:24: Motors not in position\n",
      "2021-07-25 04:13:25: Motors not in position\n",
      "2021-07-25 04:13:26: Motors not in position\n",
      "2021-07-25 04:13:27: Motors not in position\n",
      "2021-07-25 04:13:28: tomo_rot motor is in position with value-21.00 um\n",
      "2021-07-25 04:13:28: Motors Ready \n",
      "2021-07-25 04:13:28: Checking whether motors are ready.\n",
      "2021-07-25 04:13:28: Motors not in position\n",
      "2021-07-25 04:13:29: x_center motor is in position with value919.22 um\n",
      "2021-07-25 04:13:30: z_value motor is in position with value564.43 um\n",
      "2021-07-25 04:13:30: Motors Ready \n",
      "2021-07-25 04:13:30: Update the current position as the center ofthe scan.\n",
      "2021-07-25 04:13:30: Changing X scan mode to Piezo only\n",
      "2021-07-25 04:13:31: Centering piezoX and piezoY.\n",
      "2021-07-25 04:13:35: Move BDA to open position at: -8927.000\n",
      "2021-07-25 04:13:35: Scanning \n"
     ]
    },
    {
     "name": "stderr",
     "output_type": "stream",
     "text": [
      "bnp_fly0277.mda (0/2): 17it [00:33,  1.97s/it]                      "
     ]
    },
    {
     "name": "stdout",
     "output_type": "stream",
     "text": [
      "2021-07-25 04:14:09: Finish scan: bnp_fly0277.mda\n",
      "\n",
      "\n",
      "2021-07-25 04:14:09: Move BDA to block position at: -9427.000\n"
     ]
    },
    {
     "name": "stderr",
     "output_type": "stream",
     "text": [
      "\n"
     ]
    },
    {
     "name": "stdout",
     "output_type": "stream",
     "text": [
      "Waiting for coarse scan file bnp_fly0277.mda to be ready, file modified time: 1627204455, time difference: 26 \n"
     ]
    },
    {
     "data": {
      "image/png": "[encoded data removed]",
      "text/plain": [
       "<Figure size 504x288 with 8 Axes>"
      ]
     },
     "metadata": {
      "needs_background": "light"
     },
     "output_type": "display_data"
    },
    {
     "name": "stdout",
     "output_type": "stream",
     "text": [
      "3.00(width) \n",
      " 2.99(height)\n",
      "#################### Initiating fine scan bnp_fly0278.mda ####################\n",
      "Sample temp (K): 300.075\n",
      "2021-07-25 04:14:42: Move BDA to block position at: -9427.000\n",
      "2021-07-25 04:14:42; Changing XY scan mode to combined motion\n",
      "2021-07-25 04:14:47: Change x_width to 26.500\n",
      "2021-07-25 04:14:48: Change y_width to 28.000\n",
      "2021-07-25 04:14:49: Change x_step to 0.100\n",
      "2021-07-25 04:14:50: Change y_step to 0.100\n",
      "2021-07-25 04:14:51: Change dwell to 25.000\n",
      "2021-07-25 04:14:52: Change sm_rot_Rqs to -21.000\n",
      "2021-07-25 04:14:53: Change x_center_Rqs to 912.727\n",
      "2021-07-25 04:14:54: Change y_center_Rqs to -1299.489\n",
      "2021-07-25 04:14:55: Change z_value_Rqs to 564.426\n",
      "2021-07-25 04:14:55: Checking whether motors are ready.\n",
      "2021-07-25 04:14:55: Motors not in position\n",
      "2021-07-25 04:14:56: x_center motor is in position with value912.73 um\n",
      "2021-07-25 04:14:57: y_center motor is in position with value-1299.49 um\n",
      "2021-07-25 04:14:58: z_value motor is in position with value564.43 um\n",
      "2021-07-25 04:14:59: sm_rot motor is in position with value-21.00 um\n",
      "2021-07-25 04:14:59: Motors Ready \n",
      "2021-07-25 04:14:59: Update the current position as the center ofthe scan.\n",
      "2021-07-25 04:14:59: Changing X scan mode to Piezo only\n",
      "2021-07-25 04:15:00: Centering piezoX and piezoY.\n",
      "2021-07-25 04:15:04: Move BDA to open position at: -8927.000\n",
      "2021-07-25 04:15:04: Scanning \n"
     ]
    },
    {
     "name": "stderr",
     "output_type": "stream",
     "text": [
      "bnp_fly0278.mda (0/2): 561it [43:21,  4.64s/it]                         "
     ]
    },
    {
     "name": "stdout",
     "output_type": "stream",
     "text": [
      "2021-07-25 04:58:25: Finish scan: bnp_fly0278.mda\n",
      "\n",
      "\n",
      "2021-07-25 04:58:25: Move BDA to block position at: -9427.000\n",
      "2021-07-25 04:58:25: Setting up 2/2 batch scan using coarse_fine mode.\n",
      "#################### Initiating scan bnp_fly0279.mda ####################\n",
      "Sample info: FIB-Region-top-cell\n",
      "2021-07-25 04:58:25: x_width: 60.000 \ty_width: 8.500 \tx_step: 1.000 \ty_step: 1.000 \tdwell: 25.000 \tx_center_Rqs: 927.040 \ty_center_Rqs: -1296.990 \tz_value_Rqs: 296.167 \ttomo_rot_Rqs: -37.000 \t\n",
      "\n",
      "2021-07-25 04:58:25: Move BDA to block position at: -9427.000\n",
      "2021-07-25 04:58:25; Changing XY scan mode to combined motion\n"
     ]
    },
    {
     "name": "stderr",
     "output_type": "stream",
     "text": [
      "\n"
     ]
    },
    {
     "name": "stdout",
     "output_type": "stream",
     "text": [
      "2021-07-25 04:58:29: Putting Tomo angle rotation back to 0 deg\n",
      "2021-07-25 04:58:29; Changing tomo rotation angle from to -21.01 to 0.00\n",
      "2021-07-25 04:58:29: Checking whether motors are ready.\n",
      "2021-07-25 04:58:29: Motors not in position\n",
      "2021-07-25 04:58:30: Motors not in position\n",
      "2021-07-25 04:58:31: Motors not in position\n",
      "2021-07-25 04:58:32: Motors not in position\n",
      "2021-07-25 04:58:33: Motors not in position\n",
      "2021-07-25 04:58:34: Motors not in position\n",
      "2021-07-25 04:58:35: Motors not in position\n",
      "2021-07-25 04:58:36: Motors not in position\n",
      "2021-07-25 04:58:37: Motors not in position\n",
      "2021-07-25 04:58:38: Motors not in position\n",
      "2021-07-25 04:58:39: Motors not in position\n",
      "2021-07-25 04:58:40: Motors not in position\n",
      "2021-07-25 04:58:41: Motors not in position\n",
      "2021-07-25 04:58:42: Motors not in position\n",
      "2021-07-25 04:58:43: Motors not in position\n",
      "2021-07-25 04:58:44: Motors not in position\n",
      "2021-07-25 04:58:45: Motors not in position\n",
      "2021-07-25 04:58:46: Motors not in position\n",
      "2021-07-25 04:58:47: Motors not in position\n",
      "2021-07-25 04:58:48: Motors not in position\n",
      "2021-07-25 04:58:49: Motors not in position\n",
      "2021-07-25 04:58:50: tomo_rot motor is in position with value0.00 um\n",
      "2021-07-25 04:58:50: Motors Ready \n",
      "2021-07-25 04:58:52: Change x_width to 60.000\n",
      "2021-07-25 04:58:53: Change y_width to 8.500\n",
      "2021-07-25 04:58:54: Change x_step to 1.000\n",
      "2021-07-25 04:58:55: Change y_step to 1.000\n",
      "2021-07-25 04:58:56: Change dwell to 25.000\n",
      "2021-07-25 04:58:57: Change x_center_Rqs to 927.040\n",
      "2021-07-25 04:58:58: Change y_center_Rqs to -1296.990\n",
      "2021-07-25 04:58:59: Change z_value_Rqs to 296.167\n",
      "2021-07-25 04:58:59: Checking whether motors are ready.\n",
      "2021-07-25 04:58:59: Motors not in position\n",
      "2021-07-25 04:59:00: x_center motor is in position with value927.04 um\n",
      "2021-07-25 04:59:01: y_center motor is in position with value-1296.99 um\n",
      "2021-07-25 04:59:02: z_value motor is in position with value296.17 um\n",
      "2021-07-25 04:59:02: Motors Ready \n",
      "2021-07-25 04:59:02; Changing tomo rotation angle from to 0.00 to -37.00\n",
      "2021-07-25 04:59:02: Checking whether motors are ready.\n",
      "2021-07-25 04:59:02: Motors not in position\n",
      "2021-07-25 04:59:03: Motors not in position\n",
      "2021-07-25 04:59:04: Motors not in position\n",
      "2021-07-25 04:59:05: Motors not in position\n",
      "2021-07-25 04:59:06: Motors not in position\n",
      "2021-07-25 04:59:07: Motors not in position\n",
      "2021-07-25 04:59:08: Motors not in position\n",
      "2021-07-25 04:59:09: Motors not in position\n",
      "2021-07-25 04:59:10: tomo_rot motor is in position with value-37.00 um\n",
      "2021-07-25 04:59:10: Motors Ready \n",
      "2021-07-25 04:59:10: Checking whether motors are ready.\n",
      "2021-07-25 04:59:10: Motors not in position\n",
      "2021-07-25 04:59:11: x_center motor is in position with value848.54 um\n",
      "2021-07-25 04:59:12: z_value motor is in position with value756.81 um\n",
      "2021-07-25 04:59:12: Motors Ready \n",
      "2021-07-25 04:59:12: Update the current position as the center ofthe scan.\n",
      "2021-07-25 04:59:12: Changing X scan mode to Piezo only\n",
      "2021-07-25 04:59:13: Centering piezoX and piezoY.\n",
      "2021-07-25 04:59:17: Move BDA to open position at: -8927.000\n",
      "2021-07-25 04:59:17: Scanning \n"
     ]
    },
    {
     "name": "stderr",
     "output_type": "stream",
     "text": [
      "bnp_fly0279.mda (1/2): 17it [00:33,  1.97s/it]                      "
     ]
    },
    {
     "name": "stdout",
     "output_type": "stream",
     "text": [
      "2021-07-25 04:59:51: Finish scan: bnp_fly0279.mda\n",
      "\n",
      "\n",
      "2021-07-25 04:59:51: Move BDA to block position at: -9427.000\n"
     ]
    },
    {
     "name": "stderr",
     "output_type": "stream",
     "text": [
      "\n"
     ]
    },
    {
     "name": "stdout",
     "output_type": "stream",
     "text": [
      "Waiting for coarse scan file bnp_fly0279.mda to be ready, file modified time: 1627207196, time difference: 26 \n"
     ]
    },
    {
     "data": {
      "image/png": "[encoded data removed]",
      "text/plain": [
       "<Figure size 432x288 with 1 Axes>"
      ]
     },
     "metadata": {
      "needs_background": "light"
     },
     "output_type": "display_data"
    },
    {
     "data": {
      "image/png": "[encoded data removed]",
      "text/plain": [
       "<Figure size 504x288 with 8 Axes>"
      ]
     },
     "metadata": {
      "needs_background": "light"
     },
     "output_type": "display_data"
    },
    {
     "name": "stdout",
     "output_type": "stream",
     "text": [
      "3.00(width) \n",
      " 2.01(height)\n",
      "#################### Initiating fine scan bnp_fly0280.mda ####################\n",
      "Sample temp (K): 300.069\n",
      "2021-07-25 05:00:23: Move BDA to block position at: -9427.000\n",
      "2021-07-25 05:00:23; Changing XY scan mode to combined motion\n",
      "2021-07-25 05:00:28: Change x_width to 26.500\n",
      "2021-07-25 05:00:29: Change y_width to 28.000\n",
      "2021-07-25 05:00:30: Change x_step to 0.100\n",
      "2021-07-25 05:00:31: Change y_step to 0.100\n",
      "2021-07-25 05:00:32: Change dwell to 25.000\n",
      "2021-07-25 05:00:33: Change sm_rot_Rqs to -37.000\n",
      "2021-07-25 05:00:34: Change x_center_Rqs to 845.017\n",
      "2021-07-25 05:00:35: Change y_center_Rqs to -1299.979\n",
      "2021-07-25 05:00:36: Change z_value_Rqs to 756.812\n",
      "2021-07-25 05:00:36: Checking whether motors are ready.\n",
      "2021-07-25 05:00:36: Motors not in position\n",
      "2021-07-25 05:00:37: x_center motor is in position with value845.02 um\n",
      "2021-07-25 05:00:39: y_center motor is in position with value-1299.98 um\n",
      "2021-07-25 05:00:40: z_value motor is in position with value756.81 um\n",
      "2021-07-25 05:00:41: sm_rot motor is in position with value-37.00 um\n",
      "2021-07-25 05:00:41: Motors Ready \n",
      "2021-07-25 05:00:41: Update the current position as the center ofthe scan.\n",
      "2021-07-25 05:00:41: Changing X scan mode to Piezo only\n",
      "2021-07-25 05:00:42: Centering piezoX and piezoY.\n",
      "2021-07-25 05:00:46: Move BDA to open position at: -8927.000\n",
      "2021-07-25 05:00:46: Scanning \n"
     ]
    },
    {
     "name": "stderr",
     "output_type": "stream",
     "text": [
      "bnp_fly0280.mda (1/2): 561it [43:46,  4.68s/it]                         "
     ]
    },
    {
     "name": "stdout",
     "output_type": "stream",
     "text": [
      "2021-07-25 05:44:32: Finish scan: bnp_fly0280.mda\n",
      "\n",
      "\n",
      "2021-07-25 05:44:32: Move BDA to block position at: -9427.000\n",
      "2021-07-25 05:44:32; Changing XY scan mode to combined motion\n"
     ]
    },
    {
     "name": "stderr",
     "output_type": "stream",
     "text": [
      "\n"
     ]
    },
    {
     "name": "stdout",
     "output_type": "stream",
     "text": [
      "2021-07-25 05:44:36: Batch scan termiinated\n"
     ]
    },
    {
     "data": {
      "image/png": "[encoded data removed]",
      "text/plain": [
       "<Figure size 432x288 with 1 Axes>"
      ]
     },
     "metadata": {
      "needs_background": "light"
     },
     "output_type": "display_data"
    }
   ],
   "source": [
    "A = bnpScan(userdir, logfile)\n",
    "pts_area_coarse = [60, 8.5, 1, 1, 25]     #x-width, y-width, x-stepsize, y-stepsize, dw\n",
    "# orgPos_xyz_0theta = [926.7, -1299.24, 325]  #x-, y-, z- coordinate \n",
    "orgPos_xyz_0theta = [927.04, -1296.99, 296.167]  #x-, y-, z- coordinate \n",
    "# orgPos_xyz_0theta = [926.7, -1303.23, 325]  #x-, y-, z- coordinate \n",
    "elm = 'Ti'\n",
    "ncluster = 4   \n",
    "pts_area_fine = [26.5, 28, 0.1, 0.1, 25] #x-width, y-width, x-stepsize, y-stepsize, dw\n",
    "\n",
    "# angles = np.arange(-58, -36, 4).tolist()\n",
    "# angle sweeping --> to find negative rotation such that signal was not blocked\n",
    "# angles = np.dot(-1, np.arange(28, 56, 4)).tolist()\n",
    "# angles = [-2]\n",
    "# A.setupAngleSweepScans(sampleName, angles, pts_area_fine, orgPos_xyz_0theta, BDAin)\n",
    "\n",
    "# # angles = np.dot(-1, np.arange(36, 76, 4)).tolist()\n",
    "\n",
    "# # A.setupCoarseFineScans(sampleName, angles, BDAin, pts_area_coarse, orgPos_xyz_0theta, \n",
    "# #                              elm, pts_area_fine, fine_bbox = True, n_cluster = ncluster,\n",
    "# #                       sel_cluster = ncluster -1)\n",
    "# # A.startScan()\n",
    "\n",
    "\n",
    "# # positive angles\n",
    "# # angles = np.arange(30, 68, 4).tolist() # slit (0.12 on H)\n",
    "# angles=[66]\n",
    "\n",
    "# # pts_area_fine = [28.5, 28, 0.1, 0.1, 25]\n",
    "angles=[-21, -37,]\n",
    "A.setupCoarseFineScans(sampleName, angles, BDAin, pts_area_coarse, orgPos_xyz_0theta, \n",
    "                             elm, pts_area_fine, fine_bbox = True, n_cluster = ncluster,\n",
    "                      sel_cluster = ncluster -1, use_mask=False)\n",
    "A.startScan()"
   ]
  },
  {
   "cell_type": "code",
   "execution_count": 30,
   "id": "edf49a34",
   "metadata": {
    "scrolled": true
   },
   "outputs": [
    {
     "name": "stdout",
     "output_type": "stream",
     "text": [
      "\n",
      "\n",
      "2021-07-24 22:55:36: Associate motors with PVs\n",
      "2021-07-24 22:55:36: Setting up 1/1 batch scan using coarse_fine mode.\n",
      "#################### Initiating scan bnp_fly0248.mda ####################\n",
      "Sample info: FIB-Region-top-cell\n",
      "2021-07-24 22:55:36: x_width: 60.000 \ty_width: 8.500 \tx_step: 1.000 \ty_step: 1.000 \tdwell: 25.000 \tx_center_Rqs: 927.040 \ty_center_Rqs: -1296.990 \tz_value_Rqs: 296.167 \ttomo_rot_Rqs: 0.000 \t\n",
      "\n",
      "2021-07-24 22:55:36: Move BDA to block position at: -9427.000\n",
      "2021-07-24 22:55:36; Changing XY scan mode to combined motion\n",
      "2021-07-24 22:55:40: Putting Tomo angle rotation back to 0 deg\n",
      "2021-07-24 22:55:40; Changing tomo rotation angle from to -74.01 to 0.00\n",
      "2021-07-24 22:55:40: Checking whether motors are ready.\n",
      "2021-07-24 22:55:40: Motors not in position\n",
      "2021-07-24 22:55:41: Motors not in position\n",
      "2021-07-24 22:55:42: Motors not in position\n",
      "2021-07-24 22:55:43: Motors not in position\n",
      "2021-07-24 22:55:44: Motors not in position\n",
      "2021-07-24 22:55:45: Motors not in position\n",
      "2021-07-24 22:55:46: Motors not in position\n",
      "2021-07-24 22:55:47: Motors not in position\n",
      "2021-07-24 22:55:48: Motors not in position\n",
      "2021-07-24 22:55:50: Motors not in position\n",
      "2021-07-24 22:55:51: Motors not in position\n",
      "2021-07-24 22:55:52: Motors not in position\n",
      "2021-07-24 22:55:53: Motors not in position\n",
      "2021-07-24 22:55:54: Motors not in position\n",
      "2021-07-24 22:55:55: Motors not in position\n",
      "2021-07-24 22:55:56: Motors not in position\n",
      "2021-07-24 22:55:57: tomo_rot motor is in position with value0.00 um\n",
      "2021-07-24 22:55:57: Motors Ready \n",
      "2021-07-24 22:55:59: Change x_width to 60.000\n",
      "2021-07-24 22:56:00: Change y_width to 8.500\n",
      "2021-07-24 22:56:01: Change x_step to 1.000\n",
      "2021-07-24 22:56:02: Change y_step to 1.000\n",
      "2021-07-24 22:56:03: Change dwell to 25.000\n",
      "2021-07-24 22:56:04: Change x_center_Rqs to 927.040\n",
      "2021-07-24 22:56:05: Change y_center_Rqs to -1296.990\n",
      "2021-07-24 22:56:06: Change z_value_Rqs to 296.167\n",
      "2021-07-24 22:56:06: Checking whether motors are ready.\n",
      "2021-07-24 22:56:06: Motors not in position\n",
      "2021-07-24 22:56:07: x_center motor is in position with value927.04 um\n",
      "2021-07-24 22:56:08: y_center motor is in position with value-1296.99 um\n",
      "2021-07-24 22:56:09: z_value motor is in position with value296.17 um\n",
      "2021-07-24 22:56:09: Motors Ready \n",
      "2021-07-24 22:56:09; Changing tomo rotation angle from to 0.00 to 0.00\n",
      "2021-07-24 22:56:09: Checking whether motors are ready.\n",
      "2021-07-24 22:56:09: Motors not in position\n",
      "2021-07-24 22:56:10: tomo_rot motor is in position with value0.00 um\n",
      "2021-07-24 22:56:10: Motors Ready \n",
      "2021-07-24 22:56:10: Checking whether motors are ready.\n",
      "2021-07-24 22:56:10: Motors not in position\n",
      "2021-07-24 22:56:11: x_center motor is in position with value927.04 um\n",
      "2021-07-24 22:56:12: z_value motor is in position with value296.17 um\n",
      "2021-07-24 22:56:12: Motors Ready \n",
      "2021-07-24 22:56:12: Update the current position as the center ofthe scan.\n",
      "2021-07-24 22:56:12: Changing X scan mode to Piezo only\n",
      "2021-07-24 22:56:13: Centering piezoX and piezoY.\n",
      "2021-07-24 22:56:17: Move BDA to open position at: -8927.000\n",
      "2021-07-24 22:56:17: Scanning \n"
     ]
    },
    {
     "name": "stderr",
     "output_type": "stream",
     "text": [
      "bnp_fly0248.mda (0/1): 17it [00:33,  1.97s/it]                      "
     ]
    },
    {
     "name": "stdout",
     "output_type": "stream",
     "text": [
      "2021-07-24 22:56:50: Finish scan: bnp_fly0248.mda\n",
      "\n",
      "\n",
      "2021-07-24 22:56:50: Move BDA to block position at: -9427.000\n"
     ]
    },
    {
     "name": "stderr",
     "output_type": "stream",
     "text": [
      "\n"
     ]
    },
    {
     "name": "stdout",
     "output_type": "stream",
     "text": [
      "Waiting for coarse scan file bnp_fly0248.mda to be ready, file modified time: 1627185417, time difference: 25 \n"
     ]
    },
    {
     "data": {
      "image/png": "[encoded data removed]",
      "text/plain": [
       "<Figure size 504x288 with 8 Axes>"
      ]
     },
     "metadata": {
      "needs_background": "light"
     },
     "output_type": "display_data"
    },
    {
     "name": "stdout",
     "output_type": "stream",
     "text": [
      "4.00(width) \n",
      " 4.00(height)\n",
      "#################### Initiating fine scan bnp_fly0249.mda ####################\n",
      "Sample temp (K): 300.026\n",
      "2021-07-24 22:57:23: Move BDA to block position at: -9427.000\n",
      "2021-07-24 22:57:23; Changing XY scan mode to combined motion\n",
      "2021-07-24 22:57:28: Change x_width to 26.500\n",
      "2021-07-24 22:57:29: Change y_width to 28.000\n",
      "2021-07-24 22:57:30: Change x_step to 0.100\n",
      "2021-07-24 22:57:31: Change y_step to 0.100\n",
      "2021-07-24 22:57:32: Change dwell to 25.000\n",
      "2021-07-24 22:57:33: Change sm_rot_Rqs to 0.000\n",
      "2021-07-24 22:57:34: Change x_center_Rqs to 928.034\n",
      "2021-07-24 22:57:35: Change y_center_Rqs to -1297.986\n",
      "2021-07-24 22:57:36: Change z_value_Rqs to 296.167\n",
      "2021-07-24 22:57:36: Checking whether motors are ready.\n",
      "2021-07-24 22:57:36: Motors not in position\n",
      "2021-07-24 22:57:37: x_center motor is in position with value928.03 um\n",
      "2021-07-24 22:57:38: y_center motor is in position with value-1297.99 um\n",
      "2021-07-24 22:57:39: z_value motor is in position with value296.17 um\n",
      "2021-07-24 22:57:40: sm_rot motor is in position with value0.00 um\n",
      "2021-07-24 22:57:40: Motors Ready \n",
      "2021-07-24 22:57:40: Update the current position as the center ofthe scan.\n",
      "2021-07-24 22:57:40: Changing X scan mode to Piezo only\n",
      "2021-07-24 22:57:41: Centering piezoX and piezoY.\n",
      "2021-07-24 22:57:45: Move BDA to open position at: -8927.000\n",
      "2021-07-24 22:57:45: Scanning \n"
     ]
    },
    {
     "name": "stderr",
     "output_type": "stream",
     "text": [
      "bnp_fly0249.mda (0/1): 561it [45:51,  4.91s/it]                         "
     ]
    },
    {
     "name": "stdout",
     "output_type": "stream",
     "text": [
      "2021-07-24 23:43:37: Finish scan: bnp_fly0249.mda\n",
      "\n",
      "\n",
      "2021-07-24 23:43:37: Move BDA to block position at: -9427.000\n",
      "2021-07-24 23:43:37; Changing XY scan mode to combined motion\n"
     ]
    },
    {
     "name": "stderr",
     "output_type": "stream",
     "text": [
      "\n"
     ]
    },
    {
     "name": "stdout",
     "output_type": "stream",
     "text": [
      "2021-07-24 23:43:41: Batch scan termiinated\n"
     ]
    },
    {
     "data": {
      "image/png": "[encoded data removed]",
      "text/plain": [
       "<Figure size 432x288 with 1 Axes>"
      ]
     },
     "metadata": {
      "needs_background": "light"
     },
     "output_type": "display_data"
    }
   ],
   "source": [
    "# check damange at 0 (sc249), previous scan at deg 0 is sc22\n",
    "A = bnpScan(userdir, logfile)\n",
    "pts_area_coarse = [60, 8.5, 1, 1, 25]     #x-width, y-width, x-stepsize, y-stepsize, dw\n",
    "orgPos_xyz_0theta = [927.04, -1296.99, 296.167]  #x-, y-, z- coordinate \n",
    "elm = 'Ti'\n",
    "ncluster = 4   \n",
    "pts_area_fine = [26.5, 28, 0.1, 0.1, 25] #x-width, y-width, x-stepsize, y-stepsize, dw\n",
    "angles=[0]\n",
    "A.setupCoarseFineScans(sampleName, angles, BDAin, pts_area_coarse, orgPos_xyz_0theta, \n",
    "                             elm, pts_area_fine, fine_bbox = True, n_cluster = ncluster,\n",
    "                      sel_cluster = ncluster -1, use_mask=False)\n",
    "A.startScan()"
   ]
  },
  {
   "cell_type": "code",
   "execution_count": null,
   "id": "6e1fe2db",
   "metadata": {
    "scrolled": true
   },
   "outputs": [],
   "source": [
    "# Positive rotation (data looks fine up to deg = 68)\n",
    "\n",
    "# pts_area_coarse = [80, 8.5, 1, 1, 10]     #x-width, y-width, x-stepsize, y-stepsize, dw\n",
    "# orgPos_xyz_0theta = [926.7, -1299.24, 325]  #x-, y-, z- coordinate \n",
    "# elm = 'Ti'\n",
    "# ncluster = 4   #3\n",
    "# pts_area_fine = [24, 26.5, 0.1, 0.1, 25] #x-width, y-width, x-stepsize, y-stepsize, dw\n",
    "# # angles = [12]\n",
    "# angles = np.arange(44, 76, 4).tolist()\n",
    "# A.setupCoarseFineScans(sampleName, angles, BDAin, pts_area_coarse, orgPos_xyz_0theta, \n",
    "#                              elm, pts_area_fine, fine_bbox = True, n_cluster = ncluster,\n",
    "#                       sel_cluster = ncluster -1)\n",
    "# A.startScan()"
   ]
  }
 ],
 "metadata": {
  "kernelspec": {
   "display_name": "Python 3",
   "language": "python",
   "name": "python3"
  },
  "language_info": {
   "codemirror_mode": {
    "name": "ipython",
    "version": 3
   },
   "file_extension": ".py",
   "mimetype": "text/x-python",
   "name": "python",
   "nbconvert_exporter": "python",
   "pygments_lexer": "ipython3",
   "version": "3.7.3"
  }
 },
 "nbformat": 4,
 "nbformat_minor": 5
}
