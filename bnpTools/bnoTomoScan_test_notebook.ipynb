{
 "cells": [
  {
   "cell_type": "code",
   "execution_count": null,
   "metadata": {},
   "outputs": [],
   "source": [
    "import sys, os\n",
    "sys.path.append('/home/beams/USERBNP/scripts/')\n",
    "from graceluo.imgProcessing import *\n",
    "from graceluo.bnpTomoScan import bnpTomoScan\n",
    "import numpy as np"
   ]
  },
  {
   "cell_type": "code",
   "execution_count": null,
   "metadata": {
    "scrolled": true
   },
   "outputs": [],
   "source": [
    "userdir = '/mnt/micdata1/bnp/2021-1/Woodruff2'\n",
    "elm = 'K'\n",
    "scan_mode_options = ['coarse', 'fine', 'coarse_fine', 'batchXRF_fixAngle']\n",
    "scan_setting = {'scanMode':scan_mode_options[3], 'logfile':'log.txt',\n",
    "                'userdir':userdir, 'BDAin':-9017,\n",
    "#                'correct_shifts':False, 'refsc_shifts':None,\n",
    "                'coarse':{'pts_area':[18, 18, 1, 1, 50], # x-width, y-width, x-step, y-step, dwell\n",
    "                          'orgPos_xyz_0theta':[-642.4, -920, 740], #x-center, y-center, z-position\n",
    "                          'scans':[20, 25], # list of angles, np.arange(start, end, interval)\n",
    "                          'pre_parm':['pts_area', 'orgPos_xyz_0theta'],\n",
    "                          'parm_label':['x_width', 'y_width', 'x_step', 'y_step', 'dwell', 'x_center_Rqs',\n",
    "                                       'y_center_Rqs', 'z_value_Rqs', 'tomo_rot_Rqs'],\n",
    "                          'angle0_afScan':False, 'angle_init':False,\n",
    "                         },\n",
    "                \n",
    "                'fine':{'pts_area':[18, 18, 1, 1, 50], # x-width, y-width, x-step, y-step, dwell\n",
    "                        'scans':[\n",
    "                                 [17, -61.2, -941, 519.526], # angle, x-center, y-center, z-position\n",
    "                             ],\n",
    "                        'pre_parm':['pts_area'],\n",
    "                        'parm_label':['x_width', 'y_width', 'x_step', 'y_step', 'dwell', 'sm_rot_Rqs',\n",
    "                                      'x_center_Rqs','y_center_Rqs', 'z_value_Rqs']\n",
    "                            },\n",
    "                \n",
    "                'coarse_fine':{'pts_area':[18, 18, 1, 1, 50], # x-width, y-width, x-step, y-step, dwell\n",
    "                               'orgPos_xyz_0theta':[-642.4, -920, 740], #x-center, y-center, z-position\n",
    "                               'scans':[20, 25],  # list of angles, np.arange(start, end, interval)\n",
    "                               'pre_parm':['pts_area', 'orgPos_xyz_0theta'],\n",
    "                               'parm_label':['x_width', 'y_width', 'x_step', 'y_step', 'dwell', \n",
    "                                             'x_center_Rqs','y_center_Rqs', 'z_value_Rqs', 'tomo_rot_Rqs'],\n",
    "                               'find_bbox':True, # use bounding box to find x- y- center from coarse scan\n",
    "                               'area_lim':0.8,   # if bbox area from coarse scan is less than 80% of the define area in fine_pts_area, fine scan will proceed\n",
    "                               'fine_pts_area':[18, 18, 1, 1, 50] # define fine scan area (x-width, y-width, x-step, y-step, dwell)\n",
    "                              },\n",
    "                \n",
    "                'batchXRF_fixAngle':{'smp_angle':None, # When smp_angle is None, the scan will start at the current sample rotation geometry\n",
    "                                     'scans':[\n",
    "                                         \n",
    "                                        # [80, 200, 2, 2, 50, 803.116, -354.000, 301.069], # x-width, y-width, x-step, y-step, dwell, x-center, y-center, z-pos  \n",
    "                                        # [80, 200, 2, 2, 50, 628.939, -354.000, 358.092],\n",
    "                                        # [80, 200, 2, 2, 50, 879.133, -1118.000, 306.582],\n",
    "                                        # [80, 200, 2, 2, 50, 704.956, -1118.000, 363.605],\n",
    "                                         [80, 80, 2, 2, 50, 1006.907, -1340.000, 230.934],\n",
    "                                         [80, 80, 2, 2, 50, -505.020, -580.000, 692.994],\n",
    "                                         [80, 80, 2, 2, 50, -192.042, 160.000, 624.661],\n",
    "                                         [80, 80, 2, 2, 50, 521.449, -460.000, 428.305],\n",
    "                                         \n",
    "                                     ],\n",
    "                                     'pre_parm':None,\n",
    "                                     'parm_label':['x_width', 'y_width', 'x_step', 'y_step', 'dwell', \n",
    "                                             'x_center_Rqs','y_center_Rqs', 'z_value_Rqs'],\n",
    "                                    },\n",
    "                'smpInfo':'Tube 1-3', # a place for writing sample info in log file\n",
    "                }\n",
    "                \n",
    "# A = bnpTomoScan(scan_setting) # initialize bnpTomoScan object with scan_setting parameters\n",
    "# A.startScan()\n",
    "#A = bnpTomoScan.startScan()  # execute startScan will start the scanning execution\n",
    "\n",
    "# A.logfid.close()              # close log file before exit"
   ]
  },
  {
   "cell_type": "code",
   "execution_count": null,
   "metadata": {},
   "outputs": [],
   "source": [
    "# scan_setting['scanMode'] = 'fine'\n",
    "A = bnpTomoScan(scan_setting) # initialize bnpTomoScan object with scan_setting parameters\n",
    "A.startScan()"
   ]
  },
  {
   "cell_type": "code",
   "execution_count": null,
   "metadata": {},
   "outputs": [],
   "source": [
    "_fly0002.mdafor s_ in scan_setting['batchXRF_fixAngle']['scans']:\n",
    "    temp = []\n",
    "    p = []\n",
    "    temp = p + s_\n",
    "    print(temp)"
   ]
  },
  {
   "cell_type": "code",
   "execution_count": null,
   "metadata": {},
   "outputs": [],
   "source": [
    "scan_setting['batchXRF_fixAngle']['scans']"
   ]
  },
  {
   "cell_type": "code",
   "execution_count": null,
   "metadata": {},
   "outputs": [],
   "source": [
    "scanparm = []\n",
    "for s_ in scan_setting['coarse']['pre_parm']:\n",
    "    if len(scanparm) == 0: scanparm = scan_setting['coarse'][s_]\n",
    "    else: scanparm += scan_setting['coarse'][s_]\n",
    "print(scanparm)"
   ]
  },
  {
   "cell_type": "code",
   "execution_count": null,
   "metadata": {},
   "outputs": [],
   "source": [
    "sc = 'bnp_fly0003.mda'\n",
    "data_path = os.path.join(userdir, 'img.dat/%s.h5'%(sc))\n",
    "img_path = os.path.join(userdir, 'imgProg')\n",
    "figpath = os.path.join(img_path, 'bbox_%s.png'%(sc))\n",
    "getROIcoordinate(data_path, 'K', savefig = True, figpath = figpath)"
   ]
  },
  {
   "cell_type": "code",
   "execution_count": null,
   "metadata": {},
   "outputs": [],
   "source": [
    "A.logfid.close()"
   ]
  },
  {
   "cell_type": "code",
   "execution_count": null,
   "metadata": {},
   "outputs": [],
   "source": []
  },
  {
   "cell_type": "code",
   "execution_count": null,
   "metadata": {},
   "outputs": [],
   "source": []
  }
 ],
 "metadata": {
  "kernelspec": {
   "display_name": "Python 3",
   "language": "python",
   "name": "python3"
  },
  "language_info": {
   "codemirror_mode": {
    "name": "ipython",
    "version": 3
   },
   "file_extension": ".py",
   "mimetype": "text/x-python",
   "name": "python",
   "nbconvert_exporter": "python",
   "pygments_lexer": "ipython3",
   "version": "3.6.12"
  }
 },
 "nbformat": 4,
 "nbformat_minor": 5
}
