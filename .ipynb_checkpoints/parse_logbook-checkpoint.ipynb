{
 "cells": [
  {
   "cell_type": "markdown",
   "id": "cellular-pursuit",
   "metadata": {},
   "source": [
    "Load log.txt file first"
   ]
  },
  {
   "cell_type": "code",
   "execution_count": 4,
   "id": "monthly-import",
   "metadata": {},
   "outputs": [],
   "source": [
    "import pandas as pd\n",
    "import collections\n",
    "\n",
    "logpath = '/mnt/micdata1/bnp/2021-1/Woodruff2/log.txt'\n",
    "sc_dic = collections.defaultdict(list)\n",
    "with open(logpath, 'r') as f:\n",
    "    for l in f:\n",
    "        if 'Initiating scan' in l:\n",
    "            smpInfo = next(f)\n",
    "            smpInfo = smpInfo.replace('\\n',' ')\n",
    "            parmInfo = next(f)\n",
    "            parmInfo = parmInfo.split('\\t')\n",
    "            parmInfo[0] = parmInfo[0][21:]\n",
    "            \n",
    "            sc = l[l.index('_')+1:l.index('.')]\n",
    "            smpInfo = smpInfo[smpInfo.index(':')+1:]\n",
    "            sc_dic['scan_number'].append(sc)\n",
    "            sc_dic['smp_info'].append(smpInfo)\n",
    "            for p_ in parmInfo:\n",
    "                if p_ != '\\n':\n",
    "                    t = p_.split(':')\n",
    "                    sc_dic[t[0]].append(float(t[1]))"
   ]
  },
  {
   "cell_type": "markdown",
   "id": "detected-steel",
   "metadata": {},
   "source": [
    "Example of viewing selected scan parameters in DataFrame"
   ]
  },
  {
   "cell_type": "code",
   "execution_count": 5,
   "id": "intended-briefs",
   "metadata": {},
   "outputs": [
    {
     "name": "stdout",
     "output_type": "stream",
     "text": [
      "   scan_number  z_value_Rqs    smp_info\n",
      "0      fly0302      301.069   Tube 1-3 \n",
      "1      fly0002      358.092   Tube 1-3 \n",
      "2      fly0003      306.582   Tube 1-3 \n",
      "3      fly0004      363.605   Tube 1-3 \n",
      "4      fly0012      469.033   Tube 1-3 \n",
      "5      fly0013      589.549   Tube 1-3 \n",
      "6      fly0014      507.260   Tube 1-3 \n",
      "7      fly0015      469.000   Tube 1-3 \n",
      "8      fly0016      589.500   Tube 1-3 \n",
      "9      fly0017      589.500   Tube 2-2 \n",
      "10     fly0018      589.500   Tube 2-2 \n"
     ]
    }
   ],
   "source": [
    "sc_pd = pd.DataFrame(sc_dic)\n",
    "pd.set_option('display.max_rows', sc_pd.shape[0]+1)\n",
    "print(sc_pd[['scan_number', 'z_value_Rqs', 'smp_info']])"
   ]
  },
  {
   "cell_type": "markdown",
   "id": "wireless-practice",
   "metadata": {},
   "source": [
    "We can also print the entire DataFrame"
   ]
  },
  {
   "cell_type": "code",
   "execution_count": 6,
   "id": "arabic-mother",
   "metadata": {},
   "outputs": [
    {
     "name": "stdout",
     "output_type": "stream",
     "text": [
      "   scan_number    smp_info  x_width  y_width  x_step  y_step  dwell  \\\n",
      "0      fly0302   Tube 1-3      80.0    200.0     2.0     2.0   50.0   \n",
      "1      fly0002   Tube 1-3      80.0    200.0     2.0     2.0   50.0   \n",
      "2      fly0003   Tube 1-3      80.0    200.0     2.0     2.0   50.0   \n",
      "3      fly0004   Tube 1-3      80.0    200.0     2.0     2.0   50.0   \n",
      "4      fly0012   Tube 1-3      80.0     80.0     2.0     2.0   50.0   \n",
      "5      fly0013   Tube 1-3      80.0     80.0     2.0     2.0   50.0   \n",
      "6      fly0014   Tube 1-3      80.0     80.0     2.0     2.0   50.0   \n",
      "7      fly0015   Tube 1-3      58.0     56.0     0.5     0.5   50.0   \n",
      "8      fly0016   Tube 1-3      60.0     60.0     0.5     0.5   50.0   \n",
      "9      fly0017   Tube 2-2      54.0     54.0     0.1     0.1   60.0   \n",
      "10     fly0018   Tube 2-2      54.0     54.0     0.1     0.1   60.0   \n",
      "\n",
      "    x_center_Rqs  y_center_Rqs  z_value_Rqs  \n",
      "0        803.116        -354.0      301.069  \n",
      "1        628.939        -354.0      358.092  \n",
      "2        879.133       -1118.0      306.582  \n",
      "3        704.956       -1118.0      363.605  \n",
      "4        292.178       -1245.0      469.033  \n",
      "5        -80.323        -820.0      589.549  \n",
      "6         52.919        -720.0      507.260  \n",
      "7        302.000       -1241.0      469.000  \n",
      "8        -48.000        -848.0      589.500  \n",
      "9        -52.250        -847.0      589.500  \n",
      "10       -52.250        -847.0      589.500  \n"
     ]
    }
   ],
   "source": [
    "print(sc_pd)"
   ]
  },
  {
   "cell_type": "code",
   "execution_count": null,
   "id": "exempt-cooperative",
   "metadata": {},
   "outputs": [],
   "source": []
  }
 ],
 "metadata": {
  "kernelspec": {
   "display_name": "Python 3",
   "language": "python",
   "name": "python3"
  },
  "language_info": {
   "codemirror_mode": {
    "name": "ipython",
    "version": 3
   },
   "file_extension": ".py",
   "mimetype": "text/x-python",
   "name": "python",
   "nbconvert_exporter": "python",
   "pygments_lexer": "ipython3",
   "version": "3.7.3"
  }
 },
 "nbformat": 4,
 "nbformat_minor": 5
}
