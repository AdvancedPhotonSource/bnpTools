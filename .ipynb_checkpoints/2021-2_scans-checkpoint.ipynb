{
 "cells": [
  {
   "cell_type": "code",
   "execution_count": 1,
   "metadata": {},
   "outputs": [],
   "source": [
    "import sys, os\n",
    "sys.path.append('/home/beams/USERBNP/scripts/bnpTools')\n",
    "from bnpScan import bnpScan\n",
    "import numpy as np"
   ]
  },
  {
   "cell_type": "code",
   "execution_count": 56,
   "metadata": {
    "scrolled": true
   },
   "outputs": [
    {
     "name": "stdout",
     "output_type": "stream",
     "text": [
      "\n",
      "\n",
      "2021-07-25 03:16:40: Associate motors with PVs\n",
      "2021-07-25 03:16:40: Setting up 1/1 batch scan using batchXRF_fixAngle mode.\n",
      "#################### Initiating scan bnp_fly0274.mda ####################\n",
      "Sample info: FIB-Region-top-cell\n",
      "2021-07-25 03:16:40: x_width: 80.000 \ty_width: 30.000 \tx_step: 1.000 \ty_step: 1.000 \tdwell: 25.000 \tx_center_Rqs: 194.000 \ty_center_Rqs: -1299.990 \tz_value_Rqs: -326.992 \t\n",
      "\n",
      "2021-07-25 03:16:40: Move BDA to block position at: -9427.000\n",
      "2021-07-25 03:16:40; Changing XY scan mode to combined motion\n",
      "2021-07-25 03:16:45: Change x_width to 80.000\n",
      "2021-07-25 03:16:46: Change y_width to 30.000\n",
      "2021-07-25 03:16:47: Change x_step to 1.000\n",
      "2021-07-25 03:16:48: Change y_step to 1.000\n",
      "2021-07-25 03:16:49: Change dwell to 25.000\n",
      "2021-07-25 03:16:50: Change x_center_Rqs to 194.000\n",
      "2021-07-25 03:16:51: Change y_center_Rqs to -1299.990\n",
      "2021-07-25 03:16:52: Change z_value_Rqs to -326.992\n",
      "2021-07-25 03:16:52: Checking whether motors are ready.\n",
      "2021-07-25 03:16:52: Motors not in position\n",
      "2021-07-25 03:16:53: x_center motor is in position with value194.00 um\n",
      "2021-07-25 03:16:54: y_center motor is in position with value-1299.99 um\n",
      "2021-07-25 03:16:55: z_value motor is in position with value-326.99 um\n",
      "2021-07-25 03:16:55: Motors Ready \n",
      "2021-07-25 03:16:55: Update the current position as the center ofthe scan.\n",
      "2021-07-25 03:16:55: Changing X scan mode to Piezo only\n",
      "2021-07-25 03:16:56: Centering piezoX and piezoY.\n",
      "2021-07-25 03:17:00: Move BDA to open position at: -8927.000\n",
      "2021-07-25 03:17:00: Scanning \n"
     ]
    },
    {
     "name": "stderr",
     "output_type": "stream",
     "text": [
      "bnp_fly0274.mda (0/1): 61it [02:33,  2.52s/it]                        "
     ]
    },
    {
     "name": "stdout",
     "output_type": "stream",
     "text": [
      "2021-07-25 03:19:34: Finish scan: bnp_fly0274.mda\n",
      "\n",
      "\n",
      "2021-07-25 03:19:34: Move BDA to block position at: -9427.000\n",
      "2021-07-25 03:19:34; Changing XY scan mode to combined motion\n"
     ]
    },
    {
     "name": "stderr",
     "output_type": "stream",
     "text": [
      "\n"
     ]
    },
    {
     "name": "stdout",
     "output_type": "stream",
     "text": [
      "2021-07-25 03:19:38: Complete. Congratulation!\n"
     ]
    }
   ],
   "source": [
    "userdir = '/mnt/micdata1/bnp/2021-3/Schmollinger'\n",
    "logfile = 'log.txt'   # second attemp \n",
    "A = bnpScan(userdir, logfile)\n",
    "sampleName = 'FIB-Region-top-cell'\n",
    "BDAin = -8826\n",
    "# x_width = 80\n",
    "# y_width = 120\n",
    "# x_step = 2.5\n",
    "# y_step = 2.5\n",
    "# dw = 50\n",
    "\n",
    "scans = [\n",
    "#     [width, height, step_width, step_height, dwell, x-center, y-center, z-center]    \n",
    "    #[45, 28, 0.12, 0.12, 25, 914.029, -1319.74, 134.977] \n",
    "    \n",
    "    ]\n",
    "\n",
    "A.setupBatchXRFScans(sampleName, scans, BDAin, smp_angle = None)\n",
    "A.startScan()"
   ]
  }
 ],
 "metadata": {
  "kernelspec": {
   "display_name": "Python 3",
   "language": "python",
   "name": "python3"
  },
  "language_info": {
   "codemirror_mode": {
    "name": "ipython",
    "version": 3
   },
   "file_extension": ".py",
   "mimetype": "text/x-python",
   "name": "python",
   "nbconvert_exporter": "python",
   "pygments_lexer": "ipython3",
   "version": "3.6.12"
  }
 },
 "nbformat": 4,
 "nbformat_minor": 5
}
