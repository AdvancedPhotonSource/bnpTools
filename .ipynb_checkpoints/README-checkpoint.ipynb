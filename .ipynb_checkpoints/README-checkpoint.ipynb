{
 "cells": [
  {
   "cell_type": "markdown",
   "id": "included-large",
   "metadata": {},
   "source": [
    "# Documentation to use bnpTools"
   ]
  },
  {
   "cell_type": "markdown",
   "id": "preceding-small",
   "metadata": {},
   "source": [
    "## Using APSshare installed packages and adding bnpTools in python path for execution\n",
    "\n",
    "> Using installed python packages in APSshare: \n",
    ">  - Open terminal \n",
    "    - Type \"bash\"\n",
    "    - If the prefer coding enviornment is Jupyter notebook, below is the command to use: \"/APSshare/anaconda3/x86_64/bin/jupyter notebook\"\n",
    "    - Usuually it will either append a new browser tab or open up a new FireFox session for jupyter notebook \n",
    "    - If none of the above happen, we can manually open a new page of FireFox, and type \"localhost:xxxx\" in the url tab, where 'xxxx' is the port number, which can be found in Terminal output after jupyter notebook command is executed\n",
    "    \n",
    ">    - To enable remote coding using Jupyter notebook, we can use ssh tunneling to transmit data by specifying a listening port upon starting the jupyter notebook\n",
    "    > - ssh to the computer with defined listening port (1980 for example): <br>\n",
    "    ssh -t -t userbnp@ivy.xray.aps.anl.gov -L 1980:localhost:1980\n",
    "    - Execute jupyter notebook with specified listening port: <br>\n",
    "    /APSshare/anaconda3/x86_64/bin/jupyter notebook --no-browser --port=1987 --allow-root --ip=0.0.0.0\n",
    "    - In the local computer, copy and paste the url that links to the notebook on the remote machine (ivy). The url usually starts with \"127.0.0. ....\"  \n",
    "    \n",
    "> Adding bnpScan in PATH: <br>"
   ]
  },
  {
   "cell_type": "code",
   "execution_count": 5,
   "id": "human-village",
   "metadata": {},
   "outputs": [],
   "source": [
    "import sys\n",
    "sys.path.append('/home/beams/USERBNP/scripts/bnpTools')\n",
    "from bnpScan import bnpScan"
   ]
  },
  {
   "cell_type": "markdown",
   "id": "approximate-basement",
   "metadata": {},
   "source": [
    "## Setup a batch of XRF scans\n",
    "\n",
    "- Initializing a bnpScan object"
   ]
  },
  {
   "cell_type": "code",
   "execution_count": null,
   "id": "colored-mount",
   "metadata": {},
   "outputs": [],
   "source": [
    "# Creating a bnpScan object requires a userdir and a logfile name\n",
    "# userdir is the file directory of where X-ray data is saved\n",
    "# logfile is the file name of the log file that will be created and appened to userdir\n",
    "\n",
    "userdir = '/mnt/micdata1/bnp/2021-2/Test'\n",
    "logfile = 'log.txt'   \n",
    "A = bnpScan(userdir, logfile)"
   ]
  },
  {
   "cell_type": "markdown",
   "id": "rental-monitor",
   "metadata": {},
   "source": [
    "- Define scanning parameters:\n",
    "    - x_width: width of scan in x direction in unit of um (**Do not exceed 80 in fly scan mode**)\n",
    "    - y_width: width of scan in y direction in unit of um\n",
    "    - x_step:  stepsize in x direction in unit of um\n",
    "    - y_step:  stepsize in y direction in unit of um\n",
    "    - dw:      dwell time per point in unit of ms\n",
    "    - x_cnt:   desired motor position of scan center in x\n",
    "    - y_cnt:   desired motor position of scan center in y\n",
    "    - z_val:   motor position of sample-z\n",
    "    \n",
    "- \n",
    "    \n",
    "- bnpScan object expects a list scan parameters as one of the required inputs:\n",
    "\n",
    "    "
   ]
  },
  {
   "cell_type": "code",
   "execution_count": null,
   "id": "green-month",
   "metadata": {},
   "outputs": [],
   "source": [
    "scans = [x_width, y_width, x_step, y_step, dewel, 336.009, -991.000, 453.581]\n",
    "A.setupBatchXRFScans(sampleName, scans, BDAin, smp_angle = None)"
   ]
  }
 ],
 "metadata": {
  "kernelspec": {
   "display_name": "Python 3",
   "language": "python",
   "name": "python3"
  },
  "language_info": {
   "codemirror_mode": {
    "name": "ipython",
    "version": 3
   },
   "file_extension": ".py",
   "mimetype": "text/x-python",
   "name": "python",
   "nbconvert_exporter": "python",
   "pygments_lexer": "ipython3",
   "version": "3.7.3"
  }
 },
 "nbformat": 4,
 "nbformat_minor": 5
}
