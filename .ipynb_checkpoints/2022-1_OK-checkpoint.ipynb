{
 "cells": [
  {
   "cell_type": "code",
   "execution_count": 1,
   "id": "838aa3f8",
   "metadata": {},
   "outputs": [],
   "source": [
    "import sys, os\n",
    "sys.path.append('/home/beams/USERBNP/scripts/bnpTools')\n",
    "from bnpScan import bnpScan\n",
    "import numpy as np"
   ]
  },
  {
   "cell_type": "code",
   "execution_count": null,
   "id": "e96b1616",
   "metadata": {
    "scrolled": true
   },
   "outputs": [],
   "source": [
    "userdir = '/mnt/micdata1/bnp/2022-1/OK'\n",
    "logfile = 'log.txt'   \n",
    "A = bnpScan(userdir, logfile)\n",
    "sampleName = 'Ecoli'\n",
    "BDAin = -9058\n",
    "# x_width = 80\n",
    "# y_width = 120\n",
    "# x_step = 2.5\n",
    "# y_step = 2.5\n",
    "# dw = 50\n",
    "\n",
    "scans = [\n",
    "    # width, height, step_w, step_h, dwell (ms), x, y, z\n",
    "#     [60, 40, 0.5, 0.5, 25, 918, -1331+30, 296.167]\n",
    "    ]\n",
    "\n",
    "A.setupBatchXRFScans(sampleName, scans, BDAin, smp_angle = None)\n",
    "A.startScan()"
   ]
  }
 ],
 "metadata": {
  "kernelspec": {
   "display_name": "Python 3 (ipykernel)",
   "language": "python",
   "name": "python3"
  },
  "language_info": {
   "codemirror_mode": {
    "name": "ipython",
    "version": 3
   },
   "file_extension": ".py",
   "mimetype": "text/x-python",
   "name": "python",
   "nbconvert_exporter": "python",
   "pygments_lexer": "ipython3",
   "version": "3.7.11"
  }
 },
 "nbformat": 4,
 "nbformat_minor": 5
}
