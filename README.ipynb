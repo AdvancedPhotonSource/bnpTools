{
 "cells": [
  {
   "cell_type": "markdown",
   "id": "faced-management",
   "metadata": {},
   "source": [
    "# Documentation to use bnpTools"
   ]
  },
  {
   "cell_type": "markdown",
   "id": "later-cholesterol",
   "metadata": {},
   "source": [
    "## Using APSshare installed packages and adding bnpTools in python path for execution\n",
    "\n",
    "> Using installed python packages in APSshare: \n",
    ">  - Open terminal \n",
    "    - Type \"bash\"\n",
    "    - If the prefer coding enviornment is Jupyter notebook, below is the command to use: \"/APSshare/anaconda3/x86_64/bin/jupyter notebook\"\n",
    "    - Usuually it will either append a new browser tab or open up a new FireFox session for jupyter notebook \n",
    "    - If none of the above happen, we can manually open a new page of FireFox, and type \"localhost:xxxx\" in the url tab, where 'xxxx' is the port number, which can be found in Terminal output after jupyter notebook command is executed\n",
    "    \n",
    ">    - To enable remote coding using Jupyter notebook, we can use ssh tunneling to transmit data by specifying a listening port upon starting the jupyter notebook\n",
    "    > - ssh to the computer with defined listening port: <br>\n",
    "    ssh -t -t userbnp@ivy.xray.aps.anl.gov -L 1980:localhost:1980\n",
    "    - Execute jupyter notebook with specified listening port: <br>\n",
    "    /APSshare/anaconda3/x86_64/bin/jupyter notebook --no-browser --port=1987 --allow-root --ip=0.0.0.0\n",
    "    - In the local computer, copy and paste the url that links to the notebook on the remote machine (ivy). The url usually starts with \"127.0.0. ....\"  \n",
    "    \n",
    "> Adding bnpScan in PATH: <br>"
   ]
  },
  {
   "cell_type": "code",
   "execution_count": 4,
   "id": "natural-wisconsin",
   "metadata": {},
   "outputs": [
    {
     "name": "stdout",
     "output_type": "stream",
     "text": [
      "['/home/beams11/USERBNP/scripts/bnpTools', '/APSshare/anaconda3/x86_64/lib/python37.zip', '/APSshare/anaconda3/x86_64/lib/python3.7', '/APSshare/anaconda3/x86_64/lib/python3.7/lib-dynload', '', '/APSshare/anaconda3/x86_64/lib/python3.7/site-packages', '/APSshare/anaconda3/x86_64/lib/python3.7/site-packages/locket-0.2.1-py3.7.egg', '/APSshare/anaconda3/x86_64/lib/python3.7/site-packages/pyRestTable-2020.0.2-py3.7.egg', '/APSshare/anaconda3/x86_64/lib/python3.7/site-packages/IPython/extensions', '/home/beams11/USERBNP/.ipython', '/home/beams/USERBNP/scripts/bnpTools']\n"
     ]
    }
   ],
   "source": [
    "import sys\n",
    "print(sys.path)\n",
    "# sys.path.append('/home/beams/USERBNP/scripts/bnpTools')\n",
    "# from bnpScan import bnpScan"
   ]
  },
  {
   "cell_type": "code",
   "execution_count": null,
   "id": "geological-muslim",
   "metadata": {},
   "outputs": [],
   "source": []
  }
 ],
 "metadata": {
  "kernelspec": {
   "display_name": "Python 3",
   "language": "python",
   "name": "python3"
  },
  "language_info": {
   "codemirror_mode": {
    "name": "ipython",
    "version": 3
   },
   "file_extension": ".py",
   "mimetype": "text/x-python",
   "name": "python",
   "nbconvert_exporter": "python",
   "pygments_lexer": "ipython3",
   "version": "3.7.3"
  }
 },
 "nbformat": 4,
 "nbformat_minor": 5
}
